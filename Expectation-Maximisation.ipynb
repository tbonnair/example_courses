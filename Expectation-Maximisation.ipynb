{
 "cells": [
  {
   "cell_type": "markdown",
   "metadata": {},
   "source": [
    "# Expectation-Maximisation\n",
    "\n",
    "This is a jupyter notebook explaining illustrating the course at HTML. Check it out before diving into the code!\n",
    "Note also that the proposed code is didactic and do not aim at being optimised. A good exercise when you're confortable with the EM algorithm is to code it in a matrix way yourself and remove as much as possible the for loops appearing in the following code to have better performances! Otherwise, one can still use the [scikit-learn](https://scikit-learn.org/stable/modules/generated/sklearn.mixture.GaussianMixture.html) package that does all of it for you.\n",
    "\n",
    "## Data and visualisation\n",
    "\n",
    "Let us first generate some data and visualise it."
   ]
  },
  {
   "cell_type": "code",
   "execution_count": 99,
   "metadata": {},
   "outputs": [
    {
     "data": {
      "text/plain": [
       "Text(0, 0.5, '$y$')"
      ]
     },
     "execution_count": 99,
     "metadata": {},
     "output_type": "execute_result"
    },
    {
     "data": {
      "image/png": "[encoded data removed]",
      "text/plain": [
       "<Figure size 576x576 with 1 Axes>"
      ]
     },
     "metadata": {
      "needs_background": "light"
     },
     "output_type": "display_data"
    }
   ],
   "source": [
    "import numpy as np\n",
    "import matplotlib.pyplot as plt\n",
    "import matplotlib as mpl\n",
    "\n",
    "# Nice looking plots\n",
    "plt.rcParams['savefig.dpi'] = 90       #Number of dpi of saved figures\n",
    "plt.rcParams['font.size'] = 24\n",
    "plt.rcParams['axes.formatter.limits']=(-3, 3)\n",
    "plt.rcParams['axes.formatter.use_mathtext']=True\n",
    "\n",
    "# Generate dataset\n",
    "centres = np.array([[-4.5, 0], [4.5, 0], [0, 5.5]])  # Generate three centres\n",
    "covariances = np.array([[[1.2, 0.7], [0.7, 1.9]], \n",
    "                        [[1.5, 1.3], [1.3, 1.8]], \n",
    "                        [[0.8, 1.1], [1.1, 2.8]]])   # Create three covariance matrices\n",
    "np.random.seed(30)\n",
    "d1 = np.random.randn(100, 2)@np.array(covariances[0]) + centres[0]\n",
    "d2 = np.random.randn(150, 2)@np.array(covariances[1]) + centres[1]\n",
    "d3 = np.random.randn(100, 2)@np.array(covariances[2]) + centres[2]\n",
    "\n",
    "data = np.vstack((d1, d2, d3))  # Concatenate the data\n",
    "\n",
    "fig, ax = plt.subplots(figsize=(8,8))\n",
    "plt.scatter(d1.T[0], d1.T[1], s=8, color='b')\n",
    "plt.scatter(d2.T[0], d2.T[1], s=8, color='r')\n",
    "plt.scatter(d3.T[0], d3.T[1], s=8, color='g')\n",
    "plt.xlabel(r'$x$')\n",
    "plt.ylabel(r'$y$')"
   ]
  },
  {
   "cell_type": "markdown",
   "metadata": {},
   "source": [
    "Our dataset is hence made of three Gaussian components that we create by hand. Now imagine you are given the dataset without this knowledge (the colors) and you have to cluster it with the Gaussian Mixture Model.\n",
    "\n",
    "## Coding Expectation-Maximisation\n",
    "\n",
    "We need to create the two functions corresponding the both Expectation (E) and Maximisation (M) steps.\n",
    "\n",
    "Let's first define a function computing the Gaussian probability of a set of datapoints given parameters $\\mu$, the centre and $\\Sigma$, the covariance."
   ]
  },
  {
   "cell_type": "code",
   "execution_count": 104,
   "metadata": {},
   "outputs": [],
   "source": [
    "def gaussian_prob(x, mu, sig):\n",
    "    '''\n",
    "    Computes the probability of a datapoint given parameters of a D-dimensional Gaussian distribution.\n",
    "    \n",
    "    x: scalar\n",
    "        Datapoint\n",
    "    mu: scalar\n",
    "        Centre of Gaussian\n",
    "    sig: (D,D) numpy array\n",
    "        Covariance matrix\n",
    "    '''\n",
    "    D = len(x)\n",
    "    det = np.linalg.det(sig)\n",
    "    inv_sig = np.linalg.inv(sig)\n",
    "    \n",
    "    mahal_dist = (x-mu).T @ inv_sig @ (x-mu)\n",
    "    \n",
    "    prob = 1/np.sqrt( (2*np.pi)**D * det ) * np.exp(-1/2*mahal_dist)\n",
    "    \n",
    "    return prob"
   ]
  },
  {
   "cell_type": "markdown",
   "metadata": {},
   "source": [
    "The E-step consists in computing the probability of the hidden (or latent variables)"
   ]
  },
  {
   "cell_type": "code",
   "execution_count": 108,
   "metadata": {},
   "outputs": [],
   "source": [
    "def E_step(X, pi, mu, sig):\n",
    "    '''\n",
    "    Computes the E-step of the EM algorithm. As such, it estimates the responsibilities, \n",
    "    i.e. the probabilities of each datapoint being generated by each component of the model.\n",
    "    \n",
    "    X: (N,D) numpy array\n",
    "        Dataset\n",
    "    pi: (K,) numpy array\n",
    "        Amplitudes of Gaussian components\n",
    "    mu: (K,D) numpy array\n",
    "        Centre of Gaussian components\n",
    "    sig: (K,D,D) numpy array\n",
    "        Covariance matrices of Gaussian components\n",
    "    \n",
    "    return:\n",
    "    resp: (K,) numpy array\n",
    "        Responsibilities of the E-step \n",
    "    '''\n",
    "    \n",
    "    N,D = X.shape # Number of datapoints\n",
    "    K = len(pi)   # Number of components in the Gaussian mixture model\n",
    "    \n",
    "    resp = np.zeros((N,K)) # The responsibility is a matrix NxK with all association of datapoints to clusters\n",
    "    \n",
    "    for i in range(N):\n",
    "        for k in range(K):\n",
    "            prob = gaussian_prob(X[i,:], mu[k], sig[k])\n",
    "            \n",
    "            resp[i,k] = pi[k] * prob    # This is the numerator of the E-step\n",
    "            \n",
    "        normalisation = np.sum(resp[i,:])  # Denominator of the E-step\n",
    "        resp[i,:] = resp[i,:] / normalisation  # Real value of the responsibility   \n",
    "    \n",
    "    return resp\n",
    "\n",
    "#K = 3\n",
    "#mu = centres\n",
    "#sig = covariances\n",
    "#pi = np.ones(K)/K\n",
    "#E_step(X, pi, mu, sig)"
   ]
  }
 ],
 "metadata": {
  "kernelspec": {
   "display_name": "Python 3",
   "language": "python",
   "name": "python3"
  },
  "language_info": {
   "codemirror_mode": {
    "name": "ipython",
    "version": 3
   },
   "file_extension": ".py",
   "mimetype": "text/x-python",
   "name": "python",
   "nbconvert_exporter": "python",
   "pygments_lexer": "ipython3",
   "version": "3.7.3"
  }
 },
 "nbformat": 4,
 "nbformat_minor": 4
}
